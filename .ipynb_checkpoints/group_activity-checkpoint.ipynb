{
 "cells": [
  {
   "cell_type": "code",
   "execution_count": 1,
   "metadata": {},
   "outputs": [],
   "source": [
    "import os, os.path"
   ]
  },
  {
   "cell_type": "code",
   "execution_count": 2,
   "metadata": {},
   "outputs": [],
   "source": [
    "path = os.path.expanduser('~/nltk_data')"
   ]
  },
  {
   "cell_type": "code",
   "execution_count": 3,
   "metadata": {},
   "outputs": [],
   "source": [
    "if not os.path.exists(path):\n",
    "    os.mkdir(path)"
   ]
  },
  {
   "cell_type": "code",
   "execution_count": 4,
   "metadata": {
    "scrolled": true
   },
   "outputs": [],
   "source": [
    "import nltk\n",
    "para1 = nltk.data.load('para1.txt')"
   ]
  },
  {
   "cell_type": "code",
   "execution_count": 5,
   "metadata": {},
   "outputs": [
    {
     "data": {
      "text/plain": [
       "'Anniversary editions have the feel of a graduation: a year of studious slogging (of which, truth be told, my team and I do very little) and madcap fun (which we only wish we could indulge in more) rounded off with a sense of achievement and lingering anxiety. There’s pride that National Geographic Traveller India has lived to see another day, and in today’s precarious media landscape, that should account for something. Then the gnawing question: did we get it right?\\nWhen it comes to travel, is there a right or a wrong way to do it? Early this month, The New York Times unearthed Albert Einstein’s entries of his journeys around Asia and discovered a surprising side to the Nobel Prize winner. About his time in mainland China he wrote, “In the air there is a stench of never-ending manifold variety.” The people, he found, were “industrious, filthy, obtuse…” Travel often functions as a Rorschach test of biases.\\nSome are acutely aware of this and spend their time making amends. Anthony Bourdain’s recent passing prompted glowing tributes from around the world to his open-minded exploration of parts and cultures unknown. There are others who stand their ground: If a traveller’s true sentiments veer towards exotification, maybe it should stay so. Read Indian-American author Akhil Sharma’s recounting of a fortnight in Japan, featured in this issue, for a perfect example. The counter to which, also in this edition, are the observations of three insiders on their hometowns: Member of Parliament Shashi Tharoor sings paeans to Thiruvananthapuram, musician Raghu Dixit toasts Mysore and writer Janice Pariat reminisces about Shillong. The “how” of travel is a matter of debate too. Dyed-in-the-wool snobs harp on about authenticity and immersing yourself in local culture. The more you are inconvenienced, the more real your journey. To which, casual travellers will respond with, “I will take my comfortable stay in a nice hotel, thank you very much.” NGTI’s sixth anniversary is a distillation of these myriad attitudes to travel. In their own way, our writers show you the “right way to do it.”\\\\ Our centrepiece is the “Smart Hacks” section that features an expert’s take on how best to navigate a place. Lensman Abhishek Hajela, a regular visitor to Ladakh, gives readers a glimpse into getting drool-worthy shots in Ladakh. Vaishali Dinakaran, an avowed gearhead, has the lowdown on grappling with Europe by road. Kaushal Karkhanis decodes solo backpacking in South America for the faraway dreamers. Chinmai Gupta offers a guide through that most “mystical” of institutions—a London nightclub. And if these stories are only a reminder of how ill-prepared your wallet is to go anywhere, we have solutions for that, too. As to whether we got it right, we have another year to fuss over that.'"
      ]
     },
     "execution_count": 5,
     "metadata": {},
     "output_type": "execute_result"
    }
   ],
   "source": [
    "para1"
   ]
  },
  {
   "cell_type": "code",
   "execution_count": 6,
   "metadata": {},
   "outputs": [],
   "source": [
    "para2 = nltk.data.load('para2.txt')"
   ]
  },
  {
   "cell_type": "code",
   "execution_count": 7,
   "metadata": {},
   "outputs": [
    {
     "data": {
      "text/plain": [
       "'Our year-end edition toasts ultra-indulgence while travelling, featuring itineraries that many will know to be out of their financial reach. In producing these narratives, I was struck by a contrast. Travel today is dominated by minimalists or downsizers, those who preach the gospel of “hard-knock wanderlust.” And they almost always reap universal admiration. They are characters to aspire to, examples of made-for-Instagram sayings such as, “All you need is a backpack” or “#MotorcycleDiaries.” Unable to join these gallivanting philosophers, others marvel at their brave rebellion—oh, to give up the predictability of overpriced tourist traps someday, they sigh. In this context, luxury travel evokes a Molotov cocktail of feelings. A billionaire on a sailboat hosting Jazz Age-style revelries in the French Riviera is inevitably setting himself up for mockery. The heiress, who flits off to shopping holidays in Milan and Dubai, might as well buy an extra pair of sunglasses for the shade directed her way. Extravagance passes muster if it panders to affordability. In the last few years, it has become intertwined with entitlement, a radioactive pejorative today. Upper-class travel doesn’t deserve this slight. As more astute aesthetes have reminded us in the past, refined tastes don’t have to be gauche. Living like royalty might have its privileges but it also spurs a temperament for beauty, grace and sensuality, which is why travellers will always fork out top penny for a night in Rajasthan’s many palace stays. Wealth facilitates the kind of understated exclusivity seen in the English countryside’s several castles or manors, once a venue for elegant ballroom dances. Luxury could also simply mean time well spent—or doing nothing—floating atop a sundeck in an unending stretch of the ocean. Professional travel writers are lucky to be granted access to these private paradises and, in December’s magazine, a handful of them have returned with colourful dispatches. One writer enjoys a happy recreational bubble in the Maldives, another is privy to up close views of big game in Botswana. There is also a roundup of New York’s elite food and drinking haunts, and coverage of the maiden cruise between Mumbai and Goa. All these retreats promise a hedonistic binge: grand feasts of fine wine and champagne, and views hidden from the typical trails. Some of them will test your purse-strings but think of Holly Golightly. She couldn’t lay claim to real Tiffany’s jewels but that never stopped her from getting her heart’s fill, standing outside the window.'"
      ]
     },
     "execution_count": 7,
     "metadata": {},
     "output_type": "execute_result"
    }
   ],
   "source": [
    "para2"
   ]
  },
  {
   "cell_type": "code",
   "execution_count": 8,
   "metadata": {},
   "outputs": [],
   "source": [
    "para3 = nltk.data.load('para3.txt')\n",
    "para4 = nltk.data.load('para4.txt')"
   ]
  },
  {
   "cell_type": "code",
   "execution_count": null,
   "metadata": {},
   "outputs": [],
   "source": []
  },
  {
   "cell_type": "code",
   "execution_count": 9,
   "metadata": {},
   "outputs": [],
   "source": [
    "from nltk.tokenize import word_tokenize\n",
    "tokens_para1 = word_tokenize(para1)\n",
    "tokens_para2 = word_tokenize(para2)\n",
    "tokens_para3 = word_tokenize(para3)\n",
    "tokens_para4 = word_tokenize(para4)"
   ]
  },
  {
   "cell_type": "code",
   "execution_count": 10,
   "metadata": {},
   "outputs": [],
   "source": [
    "words_para1_wsw = [word for word in tokens_para1 if word.isalpha()]\n",
    "words_para2_wsw = [word for word in tokens_para2 if word.isalpha()]\n",
    "words_para3_wsw = [word for word in tokens_para3 if word.isalpha()]\n",
    "words_para4_wsw = [word for word in tokens_para4 if word.isalpha()]"
   ]
  },
  {
   "cell_type": "code",
   "execution_count": 14,
   "metadata": {},
   "outputs": [
    {
     "data": {
      "text/plain": [
       "['Anniversary',\n",
       " 'editions',\n",
       " 'have',\n",
       " 'the',\n",
       " 'feel',\n",
       " 'of',\n",
       " 'a',\n",
       " 'graduation',\n",
       " 'a',\n",
       " 'year',\n",
       " 'of',\n",
       " 'studious',\n",
       " 'slogging',\n",
       " 'of',\n",
       " 'which',\n",
       " 'truth',\n",
       " 'be',\n",
       " 'told',\n",
       " 'my',\n",
       " 'team',\n",
       " 'and',\n",
       " 'I',\n",
       " 'do',\n",
       " 'very',\n",
       " 'little',\n",
       " 'and',\n",
       " 'madcap',\n",
       " 'fun',\n",
       " 'which',\n",
       " 'we',\n",
       " 'only',\n",
       " 'wish',\n",
       " 'we',\n",
       " 'could',\n",
       " 'indulge',\n",
       " 'in',\n",
       " 'more',\n",
       " 'rounded',\n",
       " 'off',\n",
       " 'with',\n",
       " 'a',\n",
       " 'sense',\n",
       " 'of',\n",
       " 'achievement',\n",
       " 'and',\n",
       " 'lingering',\n",
       " 'anxiety',\n",
       " 'There',\n",
       " 's',\n",
       " 'pride',\n",
       " 'that',\n",
       " 'National',\n",
       " 'Geographic',\n",
       " 'Traveller',\n",
       " 'India',\n",
       " 'has',\n",
       " 'lived',\n",
       " 'to',\n",
       " 'see',\n",
       " 'another',\n",
       " 'day',\n",
       " 'and',\n",
       " 'in',\n",
       " 'today',\n",
       " 's',\n",
       " 'precarious',\n",
       " 'media',\n",
       " 'landscape',\n",
       " 'that',\n",
       " 'should',\n",
       " 'account',\n",
       " 'for',\n",
       " 'something',\n",
       " 'Then',\n",
       " 'the',\n",
       " 'gnawing',\n",
       " 'question',\n",
       " 'did',\n",
       " 'we',\n",
       " 'get',\n",
       " 'it',\n",
       " 'right',\n",
       " 'When',\n",
       " 'it',\n",
       " 'comes',\n",
       " 'to',\n",
       " 'travel',\n",
       " 'is',\n",
       " 'there',\n",
       " 'a',\n",
       " 'right',\n",
       " 'or',\n",
       " 'a',\n",
       " 'wrong',\n",
       " 'way',\n",
       " 'to',\n",
       " 'do',\n",
       " 'it',\n",
       " 'Early',\n",
       " 'this',\n",
       " 'month',\n",
       " 'The',\n",
       " 'New',\n",
       " 'York',\n",
       " 'Times',\n",
       " 'unearthed',\n",
       " 'Albert',\n",
       " 'Einstein',\n",
       " 's',\n",
       " 'entries',\n",
       " 'of',\n",
       " 'his',\n",
       " 'journeys',\n",
       " 'around',\n",
       " 'Asia',\n",
       " 'and',\n",
       " 'discovered',\n",
       " 'a',\n",
       " 'surprising',\n",
       " 'side',\n",
       " 'to',\n",
       " 'the',\n",
       " 'Nobel',\n",
       " 'Prize',\n",
       " 'winner',\n",
       " 'About',\n",
       " 'his',\n",
       " 'time',\n",
       " 'in',\n",
       " 'mainland',\n",
       " 'China',\n",
       " 'he',\n",
       " 'wrote',\n",
       " 'In',\n",
       " 'the',\n",
       " 'air',\n",
       " 'there',\n",
       " 'is',\n",
       " 'a',\n",
       " 'stench',\n",
       " 'of',\n",
       " 'manifold',\n",
       " 'The',\n",
       " 'people',\n",
       " 'he',\n",
       " 'found',\n",
       " 'were',\n",
       " 'industrious',\n",
       " 'filthy',\n",
       " 'Travel',\n",
       " 'often',\n",
       " 'functions',\n",
       " 'as',\n",
       " 'a',\n",
       " 'Rorschach',\n",
       " 'test',\n",
       " 'of',\n",
       " 'biases',\n",
       " 'Some',\n",
       " 'are',\n",
       " 'acutely',\n",
       " 'aware',\n",
       " 'of',\n",
       " 'this',\n",
       " 'and',\n",
       " 'spend',\n",
       " 'their',\n",
       " 'time',\n",
       " 'making',\n",
       " 'amends',\n",
       " 'Anthony',\n",
       " 'Bourdain',\n",
       " 's',\n",
       " 'recent',\n",
       " 'passing',\n",
       " 'prompted',\n",
       " 'glowing',\n",
       " 'tributes',\n",
       " 'from',\n",
       " 'around',\n",
       " 'the',\n",
       " 'world',\n",
       " 'to',\n",
       " 'his',\n",
       " 'exploration',\n",
       " 'of',\n",
       " 'parts',\n",
       " 'and',\n",
       " 'cultures',\n",
       " 'unknown',\n",
       " 'There',\n",
       " 'are',\n",
       " 'others',\n",
       " 'who',\n",
       " 'stand',\n",
       " 'their',\n",
       " 'ground',\n",
       " 'If',\n",
       " 'a',\n",
       " 'traveller',\n",
       " 's',\n",
       " 'true',\n",
       " 'sentiments',\n",
       " 'veer',\n",
       " 'towards',\n",
       " 'exotification',\n",
       " 'maybe',\n",
       " 'it',\n",
       " 'should',\n",
       " 'stay',\n",
       " 'so',\n",
       " 'Read',\n",
       " 'author',\n",
       " 'Akhil',\n",
       " 'Sharma',\n",
       " 's',\n",
       " 'recounting',\n",
       " 'of',\n",
       " 'a',\n",
       " 'fortnight',\n",
       " 'in',\n",
       " 'Japan',\n",
       " 'featured',\n",
       " 'in',\n",
       " 'this',\n",
       " 'issue',\n",
       " 'for',\n",
       " 'a',\n",
       " 'perfect',\n",
       " 'example',\n",
       " 'The',\n",
       " 'counter',\n",
       " 'to',\n",
       " 'which',\n",
       " 'also',\n",
       " 'in',\n",
       " 'this',\n",
       " 'edition',\n",
       " 'are',\n",
       " 'the',\n",
       " 'observations',\n",
       " 'of',\n",
       " 'three',\n",
       " 'insiders',\n",
       " 'on',\n",
       " 'their',\n",
       " 'hometowns',\n",
       " 'Member',\n",
       " 'of',\n",
       " 'Parliament',\n",
       " 'Shashi',\n",
       " 'Tharoor',\n",
       " 'sings',\n",
       " 'paeans',\n",
       " 'to',\n",
       " 'Thiruvananthapuram',\n",
       " 'musician',\n",
       " 'Raghu',\n",
       " 'Dixit',\n",
       " 'toasts',\n",
       " 'Mysore',\n",
       " 'and',\n",
       " 'writer',\n",
       " 'Janice',\n",
       " 'Pariat',\n",
       " 'reminisces',\n",
       " 'about',\n",
       " 'Shillong',\n",
       " 'The',\n",
       " 'how',\n",
       " 'of',\n",
       " 'travel',\n",
       " 'is',\n",
       " 'a',\n",
       " 'matter',\n",
       " 'of',\n",
       " 'debate',\n",
       " 'too',\n",
       " 'snobs',\n",
       " 'harp',\n",
       " 'on',\n",
       " 'about',\n",
       " 'authenticity',\n",
       " 'and',\n",
       " 'immersing',\n",
       " 'yourself',\n",
       " 'in',\n",
       " 'local',\n",
       " 'culture',\n",
       " 'The',\n",
       " 'more',\n",
       " 'you',\n",
       " 'are',\n",
       " 'inconvenienced',\n",
       " 'the',\n",
       " 'more',\n",
       " 'real',\n",
       " 'your',\n",
       " 'journey',\n",
       " 'To',\n",
       " 'which',\n",
       " 'casual',\n",
       " 'travellers',\n",
       " 'will',\n",
       " 'respond',\n",
       " 'with',\n",
       " 'I',\n",
       " 'will',\n",
       " 'take',\n",
       " 'my',\n",
       " 'comfortable',\n",
       " 'stay',\n",
       " 'in',\n",
       " 'a',\n",
       " 'nice',\n",
       " 'hotel',\n",
       " 'thank',\n",
       " 'you',\n",
       " 'very',\n",
       " 'NGTI',\n",
       " 's',\n",
       " 'sixth',\n",
       " 'anniversary',\n",
       " 'is',\n",
       " 'a',\n",
       " 'distillation',\n",
       " 'of',\n",
       " 'these',\n",
       " 'myriad',\n",
       " 'attitudes',\n",
       " 'to',\n",
       " 'travel',\n",
       " 'In',\n",
       " 'their',\n",
       " 'own',\n",
       " 'way',\n",
       " 'our',\n",
       " 'writers',\n",
       " 'show',\n",
       " 'you',\n",
       " 'the',\n",
       " 'right',\n",
       " 'way',\n",
       " 'to',\n",
       " 'do',\n",
       " 'Our',\n",
       " 'centrepiece',\n",
       " 'is',\n",
       " 'the',\n",
       " 'Smart',\n",
       " 'Hacks',\n",
       " 'section',\n",
       " 'that',\n",
       " 'features',\n",
       " 'an',\n",
       " 'expert',\n",
       " 's',\n",
       " 'take',\n",
       " 'on',\n",
       " 'how',\n",
       " 'best',\n",
       " 'to',\n",
       " 'navigate',\n",
       " 'a',\n",
       " 'place',\n",
       " 'Lensman',\n",
       " 'Abhishek',\n",
       " 'Hajela',\n",
       " 'a',\n",
       " 'regular',\n",
       " 'visitor',\n",
       " 'to',\n",
       " 'Ladakh',\n",
       " 'gives',\n",
       " 'readers',\n",
       " 'a',\n",
       " 'glimpse',\n",
       " 'into',\n",
       " 'getting',\n",
       " 'shots',\n",
       " 'in',\n",
       " 'Ladakh',\n",
       " 'Vaishali',\n",
       " 'Dinakaran',\n",
       " 'an',\n",
       " 'avowed',\n",
       " 'gearhead',\n",
       " 'has',\n",
       " 'the',\n",
       " 'lowdown',\n",
       " 'on',\n",
       " 'grappling',\n",
       " 'with',\n",
       " 'Europe',\n",
       " 'by',\n",
       " 'road',\n",
       " 'Kaushal',\n",
       " 'Karkhanis',\n",
       " 'decodes',\n",
       " 'solo',\n",
       " 'backpacking',\n",
       " 'in',\n",
       " 'South',\n",
       " 'America',\n",
       " 'for',\n",
       " 'the',\n",
       " 'faraway',\n",
       " 'dreamers',\n",
       " 'Chinmai',\n",
       " 'Gupta',\n",
       " 'offers',\n",
       " 'a',\n",
       " 'guide',\n",
       " 'through',\n",
       " 'that',\n",
       " 'most',\n",
       " 'mystical',\n",
       " 'of',\n",
       " 'London',\n",
       " 'nightclub',\n",
       " 'And',\n",
       " 'if',\n",
       " 'these',\n",
       " 'stories',\n",
       " 'are',\n",
       " 'only',\n",
       " 'a',\n",
       " 'reminder',\n",
       " 'of',\n",
       " 'how',\n",
       " 'your',\n",
       " 'wallet',\n",
       " 'is',\n",
       " 'to',\n",
       " 'go',\n",
       " 'anywhere',\n",
       " 'we',\n",
       " 'have',\n",
       " 'solutions',\n",
       " 'for',\n",
       " 'that',\n",
       " 'too',\n",
       " 'As',\n",
       " 'to',\n",
       " 'whether',\n",
       " 'we',\n",
       " 'got',\n",
       " 'it',\n",
       " 'right',\n",
       " 'we',\n",
       " 'have',\n",
       " 'another',\n",
       " 'year',\n",
       " 'to',\n",
       " 'fuss',\n",
       " 'over',\n",
       " 'that']"
      ]
     },
     "execution_count": 14,
     "metadata": {},
     "output_type": "execute_result"
    }
   ],
   "source": [
    "words_para1_wsw"
   ]
  },
  {
   "cell_type": "code",
   "execution_count": null,
   "metadata": {},
   "outputs": [],
   "source": []
  },
  {
   "cell_type": "code",
   "execution_count": null,
   "metadata": {},
   "outputs": [],
   "source": []
  },
  {
   "cell_type": "code",
   "execution_count": 11,
   "metadata": {},
   "outputs": [],
   "source": [
    "from nltk.corpus import stopwords\n",
    "stop_words = stopwords.words('english')"
   ]
  },
  {
   "cell_type": "code",
   "execution_count": 12,
   "metadata": {},
   "outputs": [],
   "source": [
    "tokens_para1 = [w.lower() for w in tokens_para1]\n",
    "tokens_para2 = [w.lower() for w in tokens_para2]\n",
    "tokens_para3 = [w.lower() for w in tokens_para3]\n",
    "tokens_para4 = [w.lower() for w in tokens_para4]"
   ]
  },
  {
   "cell_type": "code",
   "execution_count": 15,
   "metadata": {},
   "outputs": [],
   "source": [
    "words_para1 = [w for w in words_para1_wsw if not w in stop_words]\n",
    "words_para2 = [w for w in words_para2_wsw if not w in stop_words]\n",
    "words_para3 = [w for w in words_para3_wsw if not w in stop_words]\n",
    "words_para4 = [w for w in words_para4_wsw if not w in stop_words]"
   ]
  },
  {
   "cell_type": "code",
   "execution_count": 16,
   "metadata": {},
   "outputs": [
    {
     "data": {
      "text/plain": [
       "['Anniversary',\n",
       " 'editions',\n",
       " 'feel',\n",
       " 'graduation',\n",
       " 'year',\n",
       " 'studious',\n",
       " 'slogging',\n",
       " 'truth',\n",
       " 'told',\n",
       " 'team',\n",
       " 'I',\n",
       " 'little',\n",
       " 'madcap',\n",
       " 'fun',\n",
       " 'wish',\n",
       " 'could',\n",
       " 'indulge',\n",
       " 'rounded',\n",
       " 'sense',\n",
       " 'achievement',\n",
       " 'lingering',\n",
       " 'anxiety',\n",
       " 'There',\n",
       " 'pride',\n",
       " 'National',\n",
       " 'Geographic',\n",
       " 'Traveller',\n",
       " 'India',\n",
       " 'lived',\n",
       " 'see',\n",
       " 'another',\n",
       " 'day',\n",
       " 'today',\n",
       " 'precarious',\n",
       " 'media',\n",
       " 'landscape',\n",
       " 'account',\n",
       " 'something',\n",
       " 'Then',\n",
       " 'gnawing',\n",
       " 'question',\n",
       " 'get',\n",
       " 'right',\n",
       " 'When',\n",
       " 'comes',\n",
       " 'travel',\n",
       " 'right',\n",
       " 'wrong',\n",
       " 'way',\n",
       " 'Early',\n",
       " 'month',\n",
       " 'The',\n",
       " 'New',\n",
       " 'York',\n",
       " 'Times',\n",
       " 'unearthed',\n",
       " 'Albert',\n",
       " 'Einstein',\n",
       " 'entries',\n",
       " 'journeys',\n",
       " 'around',\n",
       " 'Asia',\n",
       " 'discovered',\n",
       " 'surprising',\n",
       " 'side',\n",
       " 'Nobel',\n",
       " 'Prize',\n",
       " 'winner',\n",
       " 'About',\n",
       " 'time',\n",
       " 'mainland',\n",
       " 'China',\n",
       " 'wrote',\n",
       " 'In',\n",
       " 'air',\n",
       " 'stench',\n",
       " 'manifold',\n",
       " 'The',\n",
       " 'people',\n",
       " 'found',\n",
       " 'industrious',\n",
       " 'filthy',\n",
       " 'Travel',\n",
       " 'often',\n",
       " 'functions',\n",
       " 'Rorschach',\n",
       " 'test',\n",
       " 'biases',\n",
       " 'Some',\n",
       " 'acutely',\n",
       " 'aware',\n",
       " 'spend',\n",
       " 'time',\n",
       " 'making',\n",
       " 'amends',\n",
       " 'Anthony',\n",
       " 'Bourdain',\n",
       " 'recent',\n",
       " 'passing',\n",
       " 'prompted',\n",
       " 'glowing',\n",
       " 'tributes',\n",
       " 'around',\n",
       " 'world',\n",
       " 'exploration',\n",
       " 'parts',\n",
       " 'cultures',\n",
       " 'unknown',\n",
       " 'There',\n",
       " 'others',\n",
       " 'stand',\n",
       " 'ground',\n",
       " 'If',\n",
       " 'traveller',\n",
       " 'true',\n",
       " 'sentiments',\n",
       " 'veer',\n",
       " 'towards',\n",
       " 'exotification',\n",
       " 'maybe',\n",
       " 'stay',\n",
       " 'Read',\n",
       " 'author',\n",
       " 'Akhil',\n",
       " 'Sharma',\n",
       " 'recounting',\n",
       " 'fortnight',\n",
       " 'Japan',\n",
       " 'featured',\n",
       " 'issue',\n",
       " 'perfect',\n",
       " 'example',\n",
       " 'The',\n",
       " 'counter',\n",
       " 'also',\n",
       " 'edition',\n",
       " 'observations',\n",
       " 'three',\n",
       " 'insiders',\n",
       " 'hometowns',\n",
       " 'Member',\n",
       " 'Parliament',\n",
       " 'Shashi',\n",
       " 'Tharoor',\n",
       " 'sings',\n",
       " 'paeans',\n",
       " 'Thiruvananthapuram',\n",
       " 'musician',\n",
       " 'Raghu',\n",
       " 'Dixit',\n",
       " 'toasts',\n",
       " 'Mysore',\n",
       " 'writer',\n",
       " 'Janice',\n",
       " 'Pariat',\n",
       " 'reminisces',\n",
       " 'Shillong',\n",
       " 'The',\n",
       " 'travel',\n",
       " 'matter',\n",
       " 'debate',\n",
       " 'snobs',\n",
       " 'harp',\n",
       " 'authenticity',\n",
       " 'immersing',\n",
       " 'local',\n",
       " 'culture',\n",
       " 'The',\n",
       " 'inconvenienced',\n",
       " 'real',\n",
       " 'journey',\n",
       " 'To',\n",
       " 'casual',\n",
       " 'travellers',\n",
       " 'respond',\n",
       " 'I',\n",
       " 'take',\n",
       " 'comfortable',\n",
       " 'stay',\n",
       " 'nice',\n",
       " 'hotel',\n",
       " 'thank',\n",
       " 'NGTI',\n",
       " 'sixth',\n",
       " 'anniversary',\n",
       " 'distillation',\n",
       " 'myriad',\n",
       " 'attitudes',\n",
       " 'travel',\n",
       " 'In',\n",
       " 'way',\n",
       " 'writers',\n",
       " 'show',\n",
       " 'right',\n",
       " 'way',\n",
       " 'Our',\n",
       " 'centrepiece',\n",
       " 'Smart',\n",
       " 'Hacks',\n",
       " 'section',\n",
       " 'features',\n",
       " 'expert',\n",
       " 'take',\n",
       " 'best',\n",
       " 'navigate',\n",
       " 'place',\n",
       " 'Lensman',\n",
       " 'Abhishek',\n",
       " 'Hajela',\n",
       " 'regular',\n",
       " 'visitor',\n",
       " 'Ladakh',\n",
       " 'gives',\n",
       " 'readers',\n",
       " 'glimpse',\n",
       " 'getting',\n",
       " 'shots',\n",
       " 'Ladakh',\n",
       " 'Vaishali',\n",
       " 'Dinakaran',\n",
       " 'avowed',\n",
       " 'gearhead',\n",
       " 'lowdown',\n",
       " 'grappling',\n",
       " 'Europe',\n",
       " 'road',\n",
       " 'Kaushal',\n",
       " 'Karkhanis',\n",
       " 'decodes',\n",
       " 'solo',\n",
       " 'backpacking',\n",
       " 'South',\n",
       " 'America',\n",
       " 'faraway',\n",
       " 'dreamers',\n",
       " 'Chinmai',\n",
       " 'Gupta',\n",
       " 'offers',\n",
       " 'guide',\n",
       " 'mystical',\n",
       " 'London',\n",
       " 'nightclub',\n",
       " 'And',\n",
       " 'stories',\n",
       " 'reminder',\n",
       " 'wallet',\n",
       " 'go',\n",
       " 'anywhere',\n",
       " 'solutions',\n",
       " 'As',\n",
       " 'whether',\n",
       " 'got',\n",
       " 'right',\n",
       " 'another',\n",
       " 'year',\n",
       " 'fuss']"
      ]
     },
     "execution_count": 16,
     "metadata": {},
     "output_type": "execute_result"
    }
   ],
   "source": [
    "words_para1"
   ]
  },
  {
   "cell_type": "code",
   "execution_count": 17,
   "metadata": {},
   "outputs": [],
   "source": [
    "from nltk.stem import WordNetLemmatizer\n",
    "lemmatizer = WordNetLemmatizer()"
   ]
  },
  {
   "cell_type": "code",
   "execution_count": 18,
   "metadata": {},
   "outputs": [],
   "source": [
    "lemmatized_para1 = [lemmatizer.lemmatize(word) for word in words_para1]\n",
    "lemmatized_para2 = [lemmatizer.lemmatize(word) for word in words_para2]\n",
    "lemmatized_para3 = [lemmatizer.lemmatize(word) for word in words_para3]\n",
    "lemmatized_para4 = [lemmatizer.lemmatize(word) for word in words_para4]"
   ]
  },
  {
   "cell_type": "code",
   "execution_count": 20,
   "metadata": {},
   "outputs": [
    {
     "data": {
      "image/png": "[encoded data removed]",
      "text/plain": [
       "<Figure size 576x396 with 1 Axes>"
      ]
     },
     "metadata": {},
     "output_type": "display_data"
    },
    {
     "data": {
      "text/plain": [
       "<matplotlib.axes._subplots.AxesSubplot at 0x7f282eb74ac0>"
      ]
     },
     "execution_count": 20,
     "metadata": {},
     "output_type": "execute_result"
    }
   ],
   "source": [
    "from sklearn.feature_extraction.text import CountVectorizer\n",
    "from yellowbrick.text import FreqDistVisualizer\n",
    "vectorizer = CountVectorizer()\n",
    "docs       = vectorizer.fit_transform([para1])\n",
    "features   = vectorizer.get_feature_names()\n",
    "\n",
    "visualizer = FreqDistVisualizer(features=features, orient='v')\n",
    "visualizer.fit(docs)\n",
    "visualizer.show()"
   ]
  },
  {
   "cell_type": "code",
   "execution_count": 21,
   "metadata": {},
   "outputs": [],
   "source": [
    "from nltk.probability import FreqDist\n",
    "fdist_para1 = FreqDist(lemmatized_para1)\n",
    "fdist_para2 = FreqDist(lemmatized_para2)\n",
    "fdist_para3 = FreqDist(lemmatized_para3)\n",
    "fdist_para4 = FreqDist(lemmatized_para4)"
   ]
  },
  {
   "cell_type": "code",
   "execution_count": 22,
   "metadata": {},
   "outputs": [
    {
     "data": {
      "text/plain": [
       "89.84375"
      ]
     },
     "execution_count": 22,
     "metadata": {},
     "output_type": "execute_result"
    }
   ],
   "source": [
    "ttr_para1 = len(fdist_para1)*100/len(lemmatized_para1)\n",
    "ttr_para1"
   ]
  },
  {
   "cell_type": "code",
   "execution_count": 23,
   "metadata": {},
   "outputs": [
    {
     "data": {
      "text/plain": [
       "94.04255319148936"
      ]
     },
     "execution_count": 23,
     "metadata": {},
     "output_type": "execute_result"
    }
   ],
   "source": [
    "ttr_para2 = len(fdist_para2)*100/len(lemmatized_para2)\n",
    "ttr_para2"
   ]
  },
  {
   "cell_type": "code",
   "execution_count": 24,
   "metadata": {},
   "outputs": [
    {
     "data": {
      "text/plain": [
       "90.9090909090909"
      ]
     },
     "execution_count": 24,
     "metadata": {},
     "output_type": "execute_result"
    }
   ],
   "source": [
    "ttr_para3 = len(fdist_para3)*100/len(lemmatized_para3)\n",
    "ttr_para3"
   ]
  },
  {
   "cell_type": "code",
   "execution_count": 25,
   "metadata": {},
   "outputs": [
    {
     "data": {
      "text/plain": [
       "87.54716981132076"
      ]
     },
     "execution_count": 25,
     "metadata": {},
     "output_type": "execute_result"
    }
   ],
   "source": [
    "ttr_para4 = len(fdist_para4)*100/len(lemmatized_para4)\n",
    "ttr_para4"
   ]
  },
  {
   "cell_type": "code",
   "execution_count": 26,
   "metadata": {},
   "outputs": [],
   "source": [
    "# flesch formual for guaging readabilty of text : \n",
    "# Reading Ease score = 206.835 - (1.015 × ASL) - (84.6 × ASW)\n",
    "# Here,\n",
    "# ASL = average sentence length (number of words divided by number of sentences)\n",
    "# ASW = average word length in syllables (number of syllables divided by number of words)\n",
    "\n",
    "# calculating for para1\n",
    "\n",
    "sentences = len(nltk.sent_tokenize(para1))\n",
    "words = len(word_tokenize(para1))\n",
    "\n",
    "ASL = words/sentences"
   ]
  },
  {
   "cell_type": "code",
   "execution_count": 27,
   "metadata": {},
   "outputs": [
    {
     "data": {
      "text/plain": [
       "550"
      ]
     },
     "execution_count": 27,
     "metadata": {},
     "output_type": "execute_result"
    }
   ],
   "source": [
    "def syllables(word):\n",
    "    #referred from stackoverflow.com/questions/14541303/count-the-number-of-syllables-in-a-word\n",
    "    count = 0\n",
    "    vowels = 'aeiouy'\n",
    "    word = word.lower()\n",
    "    if word[0] in vowels:\n",
    "        count +=1\n",
    "    for index in range(1,len(word)):\n",
    "        if word[index] in vowels and word[index-1] not in vowels:\n",
    "            count +=1\n",
    "    if word.endswith('e'):\n",
    "        count -= 1\n",
    "    if word.endswith('le'):\n",
    "        count += 1\n",
    "    if count == 0:\n",
    "        count += 1\n",
    "    return count\n",
    "\n",
    "syl_count = 0\n",
    "for word in words_para1_wsw:\n",
    "    syl_count+=syllables(word)\n",
    "\n",
    "ASW = syl_count/words\n",
    "words"
   ]
  },
  {
   "cell_type": "code",
   "execution_count": 28,
   "metadata": {},
   "outputs": [
    {
     "data": {
      "text/plain": [
       "721"
      ]
     },
     "execution_count": 28,
     "metadata": {},
     "output_type": "execute_result"
    }
   ],
   "source": [
    "syl_count"
   ]
  },
  {
   "cell_type": "code",
   "execution_count": 29,
   "metadata": {},
   "outputs": [
    {
     "data": {
      "text/plain": [
       "25.0"
      ]
     },
     "execution_count": 29,
     "metadata": {},
     "output_type": "execute_result"
    }
   ],
   "source": [
    "ASL"
   ]
  },
  {
   "cell_type": "code",
   "execution_count": 30,
   "metadata": {},
   "outputs": [
    {
     "data": {
      "text/plain": [
       "1.3109090909090908"
      ]
     },
     "execution_count": 30,
     "metadata": {},
     "output_type": "execute_result"
    }
   ],
   "source": [
    "ASW"
   ]
  },
  {
   "cell_type": "code",
   "execution_count": 31,
   "metadata": {},
   "outputs": [
    {
     "data": {
      "text/plain": [
       "70.55709090909093"
      ]
     },
     "execution_count": 31,
     "metadata": {},
     "output_type": "execute_result"
    }
   ],
   "source": [
    "score = 206.835 - (1.015 * ASL) - (84.6 * ASW)\n",
    "score"
   ]
  },
  {
   "cell_type": "code",
   "execution_count": 66,
   "metadata": {},
   "outputs": [],
   "source": [
    "#Flesch score is 70.55 which is equivalent to school grade level 8. \n",
    "#So the readablity is quite good as its very easy for an average adult to read and understand"
   ]
  },
  {
   "cell_type": "code",
   "execution_count": 35,
   "metadata": {},
   "outputs": [
    {
     "name": "stdout",
     "output_type": "stream",
     "text": [
      "SMOG Score for para 1:  11.7\n",
      "SMOG Score for para 2:  12.9\n",
      "SMOG Score for para 3:  11.3\n",
      "SMOG Score for para 4:  10.8\n"
     ]
    }
   ],
   "source": [
    "## SMOG Score\n",
    "\n",
    "from textstat import smog_index\n",
    "\n",
    "print(\"SMOG Score for para 1: \", smog_index(para1))\n",
    "print(\"SMOG Score for para 2: \", smog_index(para2))\n",
    "print(\"SMOG Score for para 3: \", smog_index(para3))\n",
    "print(\"SMOG Score for para 4: \", smog_index(para4))"
   ]
  }
 ],
 "metadata": {
  "kernelspec": {
   "display_name": "Python 3",
   "language": "python",
   "name": "python3"
  },
  "language_info": {
   "codemirror_mode": {
    "name": "ipython",
    "version": 3
   },
   "file_extension": ".py",
   "mimetype": "text/x-python",
   "name": "python",
   "nbconvert_exporter": "python",
   "pygments_lexer": "ipython3",
   "version": "3.8.3"
  }
 },
 "nbformat": 4,
 "nbformat_minor": 4
}
